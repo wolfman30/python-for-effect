{
 "cells": [
  {
   "cell_type": "code",
   "execution_count": 2,
   "id": "a32b508b-b649-453e-a47e-17ba779926d7",
   "metadata": {},
   "outputs": [],
   "source": [
    "book1 = (\"The Great Gatsby\", \"F.Scott Fitzgerald\", 1925, \"Fiction\")\n",
    "book2 = (\"1984\", \"George Orwell\", 1949, \"Dystopian\")\n",
    "book3 = (\"To Kill a Mockingbird\", \"Harper Lee\", 1960, \"Fiction\")\n",
    "books = [book1, book2, book3]"
   ]
  },
  {
   "cell_type": "code",
   "execution_count": 5,
   "id": "84deb454-ae9c-4ae9-b970-263a6a0319fa",
   "metadata": {},
   "outputs": [
    {
     "name": "stdout",
     "output_type": "stream",
     "text": [
      "{'Dystopian': [('1984', 'George Orwell', 1949, 'Dystopian')],\n",
      " 'Fiction': [('The Great Gatsby', 'F.Scott Fitzgerald', 1925, 'Fiction'),\n",
      "             ('To Kill a Mockingbird', 'Harper Lee', 1960, 'Fiction')]}\n"
     ]
    }
   ],
   "source": [
    "from pprint import pprint\n",
    "\n",
    "library_catalogue = {}\n",
    "for book in books: \n",
    "    title, author, publication_year, genre = book\n",
    "    if genre not in library_catalogue:\n",
    "        library_catalogue[genre] = []\n",
    "    library_catalogue[genre].append(book)\n",
    "\n",
    "pprint(library_catalogue)\n",
    "    "
   ]
  },
  {
   "cell_type": "code",
   "execution_count": null,
   "id": "b12bd106-687e-4079-8fc9-93ee15de0156",
   "metadata": {},
   "outputs": [],
   "source": []
  }
 ],
 "metadata": {
  "kernelspec": {
   "display_name": "Python 3 (ipykernel)",
   "language": "python",
   "name": "python3"
  },
  "language_info": {
   "codemirror_mode": {
    "name": "ipython",
    "version": 3
   },
   "file_extension": ".py",
   "mimetype": "text/x-python",
   "name": "python",
   "nbconvert_exporter": "python",
   "pygments_lexer": "ipython3",
   "version": "3.8.10"
  }
 },
 "nbformat": 4,
 "nbformat_minor": 5
}
